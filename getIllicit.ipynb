{
 "cells": [
  {
   "cell_type": "code",
   "execution_count": 7,
   "metadata": {},
   "outputs": [],
   "source": [
    "import datetime\n",
    "import json\n",
    "import requests\n",
    "import numpy as np\n",
    "from web3 import Web3"
   ]
  },
  {
   "cell_type": "code",
   "execution_count": 9,
   "metadata": {},
   "outputs": [],
   "source": [
    "response = requests.get(\"http://localhost:8080/api/scams\")\n",
    "if response.status_code == 200:\n",
    "    response = response.json()\n",
    "else:\n",
    "    print('reject')"
   ]
  },
  {
   "cell_type": "code",
   "execution_count": 27,
   "metadata": {},
   "outputs": [],
   "source": [
    "no_of_scams = len(response['result'])\n",
    "scam_id, scam_name, scam_status, scam_category, addresses= ([] for i in range(5))"
   ]
  },
  {
   "cell_type": "code",
   "execution_count": 25,
   "metadata": {},
   "outputs": [],
   "source": [
    "for scam in range(no_of_scams):\n",
    "    if 'addresses' in response['result'][scam]:\n",
    "        for i in response['result'][scam]['addresses']:\n",
    "            if i[:2] != '0x':\n",
    "                continue\n",
    "            addresses.append(i)\n",
    "            scam_id.append(response['result'][scam]['id'])\n",
    "            scam_name.append(response['result'][scam]['name'])\n",
    "            scam_status.append(response['result'][scam]['status'])\n",
    "            if 'category' in response['result'][scam]:\n",
    "                scam_category.append(response['result'][scam]['category'])\n",
    "            else:\n",
    "                scam_category.append('Null')"
   ]
  },
  {
   "cell_type": "code",
   "execution_count": 23,
   "metadata": {},
   "outputs": [
    {
     "data": {
      "text/plain": [
       "2043"
      ]
     },
     "execution_count": 23,
     "metadata": {},
     "output_type": "execute_result"
    }
   ],
   "source": [
    "len(np.unique(addresses))\n"
   ]
  },
  {
   "cell_type": "code",
   "execution_count": 17,
   "metadata": {},
   "outputs": [
    {
     "name": "stdout",
     "output_type": "stream",
     "text": [
      "file number of illicit accounts:  2813\n",
      "Unique illicit accounts:  2043\n"
     ]
    },
    {
     "ename": "FileNotFoundError",
     "evalue": "[Errno 2] No such file or directory: 'C:/Users/luter/Documents/Github/Ethereum_Fraud_Detection/Illicit_Accounts/illegal_lists/addresses-darklist.json'",
     "output_type": "error",
     "traceback": [
      "\u001b[0;31m---------------------------------------------------------------------------\u001b[0m",
      "\u001b[0;31mFileNotFoundError\u001b[0m                         Traceback (most recent call last)",
      "\u001b[1;32m/Users/gayuhkautaman/Documents/code/dataMining/Eth-FraudDetection/getIllicit.ipynb Cell 5'\u001b[0m in \u001b[0;36m<module>\u001b[0;34m\u001b[0m\n\u001b[1;32m      <a href='vscode-notebook-cell:/Users/gayuhkautaman/Documents/code/dataMining/Eth-FraudDetection/getIllicit.ipynb#ch0000004?line=1'>2</a>\u001b[0m \u001b[39mprint\u001b[39m(\u001b[39m\"\u001b[39m\u001b[39mUnique illicit accounts: \u001b[39m\u001b[39m\"\u001b[39m, \u001b[39mlen\u001b[39m(np\u001b[39m.\u001b[39munique(addresses)))\n\u001b[1;32m      <a href='vscode-notebook-cell:/Users/gayuhkautaman/Documents/code/dataMining/Eth-FraudDetection/getIllicit.ipynb#ch0000004?line=3'>4</a>\u001b[0m \u001b[39m# Total Number of Available documented scam addresses: 692 (19/02/2019)\u001b[39;00m\n\u001b[1;32m      <a href='vscode-notebook-cell:/Users/gayuhkautaman/Documents/code/dataMining/Eth-FraudDetection/getIllicit.ipynb#ch0000004?line=4'>5</a>\u001b[0m \u001b[39m# JSON File\u001b[39;00m\n\u001b[0;32m----> <a href='vscode-notebook-cell:/Users/gayuhkautaman/Documents/code/dataMining/Eth-FraudDetection/getIllicit.ipynb#ch0000004?line=5'>6</a>\u001b[0m address_darklist \u001b[39m=\u001b[39m json\u001b[39m.\u001b[39mloads(\u001b[39mopen\u001b[39;49m(\u001b[39m'\u001b[39;49m\u001b[39mC:/Users/luter/Documents/Github/Ethereum_Fraud_Detection/Illicit_Accounts/illegal_lists/addresses-darklist.json\u001b[39;49m\u001b[39m'\u001b[39;49m)\u001b[39m.\u001b[39mread())\n\u001b[1;32m      <a href='vscode-notebook-cell:/Users/gayuhkautaman/Documents/code/dataMining/Eth-FraudDetection/getIllicit.ipynb#ch0000004?line=6'>7</a>\u001b[0m addresses_2 \u001b[39m=\u001b[39m []\n\u001b[1;32m      <a href='vscode-notebook-cell:/Users/gayuhkautaman/Documents/code/dataMining/Eth-FraudDetection/getIllicit.ipynb#ch0000004?line=8'>9</a>\u001b[0m \u001b[39mfor\u001b[39;00m item \u001b[39min\u001b[39;00m address_darklist:\n",
      "\u001b[0;31mFileNotFoundError\u001b[0m: [Errno 2] No such file or directory: 'C:/Users/luter/Documents/Github/Ethereum_Fraud_Detection/Illicit_Accounts/illegal_lists/addresses-darklist.json'"
     ]
    }
   ],
   "source": [
    "print(\"file number of illicit accounts: \", len(addresses))\n",
    "print(\"Unique illicit accounts: \", len(np.unique(addresses)))\n",
    "\n",
    "address_darklist = json.loads(open('C:/Users/luter/Documents/Github/Ethereum_Fraud_Detection/Illicit_Accounts/illegal_lists/addresses-darklist.json').read())\n",
    "addresses_2 = []\n",
    "\n",
    "for item in address_darklist:\n",
    "    addresses_2.append(item['address'])\n",
    "print(\"Number of illegal addresses: \", len(address_darklist))\n",
    "print(\"Number of unique illegal addresses in JSON file: \", len(np.unique(addresses_2)))\n",
    "\n",
    "all_addresses = []\n",
    "all_addresses = np.concatenate((addresses, addresses_2), axis=None)\n",
    "all_addresses = np.unique(np.char.lower(all_addresses))\n",
    "print(\"Final number of unique Addresses: \", len(np.unique(all_addresses)))\n"
   ]
  },
  {
   "cell_type": "code",
   "execution_count": 6,
   "metadata": {},
   "outputs": [],
   "source": [
    "def get_additional_scam_websites():\n",
    "    url_darklist = json.loads(open('C:/Users/luter/Documents/Github/Ethereum_Fraud_Detection/Illicit_Accounts/illegal_lists/urls-darklist.json', encoding=\"utf8\").read())\n",
    "    print(\"Number of illegal addresses: \", len(url_darklist))\n",
    "    url, comments = ([] for i in range(2))\n",
    "    for item in url_darklist:\n",
    "        url.append(item['id'])\n",
    "        comments.append(item['comment'])\n",
    "    print(url[0], \" \", comments[0])"
   ]
  },
  {
   "cell_type": "code",
   "execution_count": null,
   "metadata": {},
   "outputs": [],
   "source": [
    "def get_Last_Ether_Price_Supply():\n",
    "    from etherscan.stats import Stats\n",
    "    with open(\"Illicit_Accounts/api_key.json\", mode='r') as key_file:\n",
    "        key = json.loads(key_file.read())['key']\n",
    "\n",
    "    api = Stats(api_key=key)\n",
    "    ether_last_price_json = api.get_ether_last_price()\n",
    "    ether_btc = ether_last_price_json['ethbtc']\n",
    "    ether_datetime = convertTimestampToDateTime(ether_last_price_json['ethbtc_timestamp'])\n",
    "    ether_usd_price = ether_last_price_json['ethusd']\n",
    "    #ether_usd_price_datetime = convertTimestampToDateTime(ether_last_price_json['ethusd_timestamp'])\n",
    "    total_ether_supply = api.get_total_ether_supply()\n",
    "    print(\"Time of price: \", ether_datetime, \" Ether_BTC price: \", ether_btc, \" Ether_USD price: \", ether_usd_price)\n",
    "    print(\"Total Ether supply available: \", total_ether_supply)\n",
    "\n",
    "def convertTimestampToDateTime(timestampValue):\n",
    "    timestampValue = int(timestampValue)\n",
    "    value = datetime.datetime.fromtimestamp(timestampValue)\n",
    "    exct_time = value.strftime('%d %B %Y %H:%M:%S')\n",
    "    return exct_time\n"
   ]
  }
 ],
 "metadata": {
  "interpreter": {
   "hash": "52984872766fabfa6322c34ae5cc2a5ac96aa0d05201d25acb1929140fce0c64"
  },
  "kernelspec": {
   "display_name": "Python 3.10.2 ('dataMining')",
   "language": "python",
   "name": "python3"
  },
  "language_info": {
   "codemirror_mode": {
    "name": "ipython",
    "version": 3
   },
   "file_extension": ".py",
   "mimetype": "text/x-python",
   "name": "python",
   "nbconvert_exporter": "python",
   "pygments_lexer": "ipython3",
   "version": "3.10.2"
  },
  "orig_nbformat": 4
 },
 "nbformat": 4,
 "nbformat_minor": 2
}
